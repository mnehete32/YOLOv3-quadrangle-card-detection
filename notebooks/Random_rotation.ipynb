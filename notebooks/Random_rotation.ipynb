{
 "cells": [
  {
   "cell_type": "code",
   "execution_count": 18,
   "id": "1b82ed1e",
   "metadata": {},
   "outputs": [],
   "source": [
    "import numpy as np\n",
    "import cv2\n",
    "import os\n",
    "import json\n",
    "import re"
   ]
  },
  {
   "cell_type": "code",
   "execution_count": 19,
   "id": "507e7bce",
   "metadata": {},
   "outputs": [],
   "source": [
    "dataset_dir = \"../midv_dataset/\""
   ]
  },
  {
   "cell_type": "code",
   "execution_count": 21,
   "id": "87f2d656",
   "metadata": {},
   "outputs": [],
   "source": [
    "def rotate(image, angle):\n",
    "    #determine the center\n",
    "    (h, w) = image.shape[:2]\n",
    "    (cX, cY) = (w // 2, h // 2)\n",
    "    # grab the rotation matrix (applying the negative of the\n",
    "    # angle to rotate clockwise), then grab the sine and cosine\n",
    "    # (i.e., the rotation components of the matrix)\n",
    "    M = cv2.getRotationMatrix2D((cX, cY), angle, 1.0)\n",
    "    cos = np.abs(M[0, 0])\n",
    "    sin = np.abs(M[0, 1])\n",
    "    # compute the new bounding dimensions of the image\n",
    "    nW = int((h * sin) + (w * cos))\n",
    "    nH = int((h * cos) + (w * sin))\n",
    "    # adjust the rotation matrix to take into account translation\n",
    "    M[0, 2] += (nW / 2) - cX\n",
    "    M[1, 2] += (nH / 2) - cY\n",
    "    # perform the actual rotation and return the image\n",
    "    return cv2.warpAffine(image, M, (nW, nH))"
   ]
  },
  {
   "cell_type": "code",
   "execution_count": null,
   "id": "39c9988b",
   "metadata": {},
   "outputs": [],
   "source": [
    "useable_images = []\n",
    "all_angles = np.arange(-180,180,1)\n",
    "for currentpath, folders, files in os.walk(dataset_dir):\n",
    "    for file in files:\n",
    "        angle = np.random.choice(all_angles,1)[0]\n",
    "        each_filepath = os.path.join(currentpath, file)\n",
    "        if len(re.findall(r\"\\/\\w{2}\\/\\w{2}\\d{2}\\_\\d{2}\\.tif$\", each_filepath))<1:\n",
    "            continue\n",
    "        \n",
    "        out_img_path = re.sub(r\"\\.tif$\",\".jpg\",each_filepath)\n",
    "        out_img_path = re.sub(\"\\/midv_dataset\\/\",'/random_rotated_img/',out_img_path, re.DOTALL)\n",
    "        \n",
    "        if os.path.isfile(out_img_path):\n",
    "            continue\n",
    "        \n",
    "        img = cv2.imread(each_filepath)\n",
    "        img = rotate(img, angle)\n",
    "        out_dir = os.path.dirname(out_img_path)\n",
    "        os.makedirs(out_dir, exist_ok=True)\n",
    "        cv2.imwrite(out_img_path, img)\n",
    "\n",
    "    "
   ]
  },
  {
   "cell_type": "code",
   "execution_count": 9,
   "id": "f0d1d525",
   "metadata": {},
   "outputs": [
    {
     "data": {
      "text/plain": [
       "'../midv_dataset/.gitkeep'"
      ]
     },
     "execution_count": 9,
     "metadata": {},
     "output_type": "execute_result"
    }
   ],
   "source": [
    "each_filepath"
   ]
  },
  {
   "cell_type": "code",
   "execution_count": null,
   "id": "4674427a",
   "metadata": {},
   "outputs": [],
   "source": []
  }
 ],
 "metadata": {
  "kernelspec": {
   "display_name": "Python 3 (ipykernel)",
   "language": "python",
   "name": "python3"
  },
  "language_info": {
   "codemirror_mode": {
    "name": "ipython",
    "version": 3
   },
   "file_extension": ".py",
   "mimetype": "text/x-python",
   "name": "python",
   "nbconvert_exporter": "python",
   "pygments_lexer": "ipython3",
   "version": "3.8.12"
  }
 },
 "nbformat": 4,
 "nbformat_minor": 5
}
