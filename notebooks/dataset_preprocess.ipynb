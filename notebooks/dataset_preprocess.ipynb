{
 "cells": [
  {
   "cell_type": "code",
   "execution_count": null,
   "metadata": {},
   "outputs": [],
   "source": [
    "import numpy as np\n",
    "import cv2\n",
    "import os\n",
    "import json\n",
    "import re"
   ]
  },
  {
   "cell_type": "code",
   "execution_count": null,
   "metadata": {},
   "outputs": [],
   "source": [
    "dataset_dir = \"../midv_dataset/\""
   ]
  },
  {
   "cell_type": "markdown",
   "metadata": {},
   "source": [
    "## remove all the card whose quadrialteral is out of the image"
   ]
  },
  {
   "cell_type": "code",
   "execution_count": 58,
   "metadata": {},
   "outputs": [],
   "source": [
    "useable_images = []\n",
    "for currentpath, folders, files in os.walk(dataset_dir):\n",
    "    for file in files:\n",
    "#         if file != \"TA42_22.tif\":\n",
    "#             continue\n",
    "        each_filepath = os.path.join(currentpath, file)\n",
    "        if len(re.findall(r\"\\/\\w{2}\\/\\w{2}\\d{2}\\_\\d{2}\\.tif$\", each_filepath))<1:\n",
    "            continue\n",
    "        \n",
    "        img = cv2.imread(each_filepath)\n",
    "        img_h, img_w = img.shape[:2]\n",
    "        json_path = re.sub(r\"\\.tif$\",\".json\",each_filepath)\n",
    "        json_path = re.sub(\"\\/images\\/\",'/ground_truth/',json_path, re.DOTALL)\n",
    "        \n",
    "\n",
    "        with open(json_path,\"r\") as f:\n",
    "            quad_json = json.load(f)\n",
    "        quad_points = np.array(quad_json[\"quad\"])\n",
    "        \n",
    "        if ((quad_points[:,1] > img_h).any() or (quad_points[:,1] < 0).any()) or \\\n",
    "            ((quad_points[:,0] > img_w).any() or (quad_points[:,0] < 0).any()):\n",
    "#             print(each_filepath)\n",
    "            continue\n",
    "            \n",
    "        useable_images.append(each_filepath)\n",
    "        txt_path = re.sub(\"\\.json$\", \".txt\", json_path)\n",
    "        with open(txt_path,\"w\") as f:\n",
    "            out_txt = \"0 \" + \" \".join(str(x[0]) + \" \" + str(x[1]) for x in quad_points)\n",
    "            f.write(out_txt)\n",
    "        \n",
    "        \n",
    "        "
   ]
  },
  {
   "cell_type": "code",
   "execution_count": 64,
   "metadata": {},
   "outputs": [],
   "source": [
    "\n",
    "with open(\"../trainable_image.txt\",\"w\") as f:\n",
    "    out_str = \"\\n\".join(x.replace(\"../\",\"./\") for x in useable_images)\n",
    "    f.write(out_str)"
   ]
  },
  {
   "cell_type": "markdown",
   "metadata": {},
   "source": [
    "## Generate txt labels from *trainable_images.txt* file"
   ]
  },
  {
   "cell_type": "code",
   "execution_count": 65,
   "metadata": {},
   "outputs": [],
   "source": [
    "trainable_img_file_path = \"../trainable_image.txt\"\n",
    "with open(trainable_img_file_path) as f:\n",
    "    trainable_img = f.read().split(\"\\n\")\n",
    "    \n",
    "for img_path in trainable_img:\n",
    "    json_path = re.sub(\"\\/images\\/\",'/ground_truth/',img_path, re.DOTALL)\n",
    "    with open(json_path,\"r\") as f:\n",
    "        quad_json = json.load(f)\n",
    "    quad_points = np.array(quad_json[\"quad\"])\n",
    "    txt_path = re.sub(\"\\.json$\", \".txt\", json_path)\n",
    "    with open(txt_path,\"w\") as f:\n",
    "        out_txt = \"0 \" + \" \".join(str(x[0]) + \" \" + str(x[1]) for x in quad_points)\n",
    "        f.write(out_txt)"
   ]
  },
  {
   "cell_type": "markdown",
   "metadata": {},
   "source": [
    "# train test split"
   ]
  },
  {
   "cell_type": "code",
   "execution_count": 3,
   "metadata": {},
   "outputs": [],
   "source": [
    "from sklearn.model_selection import train_test_split"
   ]
  },
  {
   "cell_type": "code",
   "execution_count": 4,
   "metadata": {},
   "outputs": [],
   "source": [
    "trainable_img_file_path = \"../trainable_dataset_files/trainable_image.txt\"\n",
    "with open(trainable_img_file_path) as f:\n",
    "    trainable_img = f.read().split(\"\\n\")"
   ]
  },
  {
   "cell_type": "code",
   "execution_count": null,
   "metadata": {},
   "outputs": [],
   "source": [
    "x_train, x_test = train_test_split(trainable_img, test_size=0.15, random_state=32)"
   ]
  },
  {
   "cell_type": "code",
   "execution_count": 12,
   "metadata": {},
   "outputs": [
    {
     "data": {
      "text/plain": [
       "(8322, 1469)"
      ]
     },
     "execution_count": 12,
     "metadata": {},
     "output_type": "execute_result"
    }
   ],
   "source": [
    "len(x_train),len(x_test)"
   ]
  },
  {
   "cell_type": "code",
   "execution_count": 14,
   "metadata": {},
   "outputs": [],
   "source": [
    "with open(\"../trainable_dataset_files/train.part\", \"w\") as f:\n",
    "    out_text = \"\\n\".join(x_train)\n",
    "    f.write(out_text)\n",
    "with open(\"../trainable_dataset_files/test.part\", \"w\") as f:\n",
    "    out_text = \"\\n\".join(x_test)\n",
    "    f.write(out_text)"
   ]
  },
  {
   "cell_type": "code",
   "execution_count": null,
   "metadata": {},
   "outputs": [],
   "source": [
    "x_train"
   ]
  }
 ],
 "metadata": {
  "kernelspec": {
   "display_name": "Python 3 (ipykernel)",
   "language": "python",
   "name": "python3"
  },
  "language_info": {
   "codemirror_mode": {
    "name": "ipython",
    "version": 3
   },
   "file_extension": ".py",
   "mimetype": "text/x-python",
   "name": "python",
   "nbconvert_exporter": "python",
   "pygments_lexer": "ipython3",
   "version": "3.8.12"
  }
 },
 "nbformat": 4,
 "nbformat_minor": 4
}
